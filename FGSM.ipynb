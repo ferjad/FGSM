{
 "cells": [
  {
   "cell_type": "code",
   "execution_count": 1,
   "metadata": {},
   "outputs": [],
   "source": [
    "import torch\n",
    "import torch.nn as nn\n",
    "import torch.nn.functional as F\n",
    "import torchvision.datasets as datasets\n",
    "import torchvision.transforms as transforms\n",
    "import numpy as np\n",
    "import matplotlib.pyplot as plt\n",
    "import random\n",
    "import pickle"
   ]
  },
  {
   "cell_type": "code",
   "execution_count": 2,
   "metadata": {},
   "outputs": [],
   "source": [
    "train_dataset=datasets.MNIST(root='./data',\n",
    "                            train=True,\n",
    "                            download=True,\n",
    "                            transform=transforms.ToTensor())\n",
    "test_dataset=datasets.MNIST(root='./data',\n",
    "                          train=False,\n",
    "                          download=True,\n",
    "                          transform=transforms.ToTensor())"
   ]
  },
  {
   "cell_type": "code",
   "execution_count": 3,
   "metadata": {},
   "outputs": [],
   "source": [
    "batch_size=100\n",
    "n_iters=3000\n",
    "num_epochs=int(n_iters*batch_size/len(train_dataset))\n",
    "train_loader=torch.utils.data.DataLoader(dataset=train_dataset,\n",
    "                                        batch_size=batch_size,\n",
    "                                        shuffle=True)\n",
    "test_loader=torch.utils.data.DataLoader(dataset=test_dataset,\n",
    "                                       batch_size=batch_size,\n",
    "                                       shuffle=False)"
   ]
  },
  {
   "cell_type": "code",
   "execution_count": 4,
   "metadata": {},
   "outputs": [],
   "source": [
    "class FeedForwardNN(nn.Module):\n",
    "    def __init__(self,input_size,hidden_size,num_classes):\n",
    "        super(FeedForwardNN,self).__init__()\n",
    "        self.fc1=nn.Linear(input_size,hidden_size)\n",
    "        self.relu=nn.ReLU()\n",
    "        self.fc2=nn.Linear(hidden_size,num_classes)\n",
    "        \n",
    "    def forward(self,x):\n",
    "        out=self.fc1(x)\n",
    "        out=self.relu(out)\n",
    "        out=self.fc2(out)\n",
    "        return out"
   ]
  },
  {
   "cell_type": "code",
   "execution_count": 5,
   "metadata": {},
   "outputs": [],
   "source": [
    "input_size=28*28\n",
    "hidden_size=512\n",
    "num_classes=10\n",
    "learning_rate=0.01\n",
    "model=FeedForwardNN(input_size,hidden_size,num_classes)\n",
    "criterion=nn.CrossEntropyLoss()\n",
    "optimizer=torch.optim.SGD(model.parameters(),lr=learning_rate)"
   ]
  },
  {
   "cell_type": "code",
   "execution_count": 6,
   "metadata": {},
   "outputs": [
    {
     "name": "stdout",
     "output_type": "stream",
     "text": [
      "cuda:0\n"
     ]
    },
    {
     "data": {
      "text/plain": [
       "FeedForwardNN(\n",
       "  (fc1): Linear(in_features=784, out_features=512, bias=True)\n",
       "  (relu): ReLU()\n",
       "  (fc2): Linear(in_features=512, out_features=10, bias=True)\n",
       ")"
      ]
     },
     "execution_count": 6,
     "metadata": {},
     "output_type": "execute_result"
    }
   ],
   "source": [
    "device=('cuda:0' if torch.cuda.is_available() else 'cpu')\n",
    "print(device)\n",
    "model.to(device)"
   ]
  },
  {
   "cell_type": "code",
   "execution_count": 7,
   "metadata": {},
   "outputs": [
    {
     "name": "stdout",
     "output_type": "stream",
     "text": [
      "Loss  1.012006402015686 Iteration  500  Accuracy  82.94\n",
      "Loss  0.5077894330024719 Iteration  1000  Accuracy  87.32\n",
      "Loss  0.47613775730133057 Iteration  1500  Accuracy  88.93\n",
      "Loss  0.4306364357471466 Iteration  2000  Accuracy  89.61\n",
      "Loss  0.31300032138824463 Iteration  2500  Accuracy  90.26\n",
      "Loss  0.31958597898483276 Iteration  3000  Accuracy  90.69\n"
     ]
    }
   ],
   "source": [
    "iter=0\n",
    "for epoch in range(num_epochs):\n",
    "    for i,(images,labels) in enumerate(train_loader):\n",
    "        images, labels=images.to(device),labels.to(device)\n",
    "        images=images.view(-1,28*28)\n",
    "        optimizer.zero_grad()\n",
    "        outputs=model(images)\n",
    "        loss=criterion(outputs,labels)\n",
    "        loss.backward()\n",
    "        optimizer.step()\n",
    "        iter+=1\n",
    "        if iter % 500 ==0:\n",
    "            correct=0\n",
    "            total=0\n",
    "            for images,labels in test_loader:\n",
    "                images,labels=images.to(device), labels.to(device)\n",
    "                images=images.view(-1,28*28)\n",
    "                outputs=model(images)\n",
    "                _,predictions=torch.max(outputs,1)\n",
    "                total+=images.size()[0]\n",
    "                correct+=(predictions==labels).sum()\n",
    "                accuracy=float(100*correct)/total\n",
    "                \n",
    "                \n",
    "            print('Loss ', loss.item(), 'Iteration ',\n",
    "                  iter, ' Accuracy ', accuracy)"
   ]
  },
  {
   "cell_type": "code",
   "execution_count": 8,
   "metadata": {},
   "outputs": [
    {
     "name": "stdout",
     "output_type": "stream",
     "text": [
      "Error Rate is  48.32\n"
     ]
    }
   ],
   "source": [
    "images_all=list()\n",
    "adv_all=list()\n",
    "correct=0\n",
    "total=0\n",
    "for images,labels in test_loader:\n",
    "    images, labels=images.to(device),labels.to(device)\n",
    "    images=images.view(-1,28*28)\n",
    "    images.requires_grad_()\n",
    "    optimizer.zero_grad()\n",
    "    outputs=model(images)\n",
    "    loss=criterion(outputs,labels)\n",
    "    \n",
    "    \n",
    "    loss.backward()\n",
    "    _,predictions=torch.max(outputs,1)\n",
    "    #FGSM\n",
    "    epsilon=0.1\n",
    "    x_grad=torch.sign(images.grad)\n",
    "    x_adversarial=torch.clamp(images.detach()+epsilon*x_grad,0,1)\n",
    "    \n",
    "    _,adversarial_pred=torch.max(model(x_adversarial),1)\n",
    "    images_all.append([images.view(-1,28,28).detach().cpu().numpy(),labels])\n",
    "    adv_all.append([x_adversarial.view(-1,28,28).cpu().numpy(),adversarial_pred])\n",
    "\n",
    "    correct+=(predictions==adversarial_pred).sum()\n",
    "    total+=len(predictions)\n",
    "print(\"Error Rate is \",float(total-correct)*100/total)"
   ]
  },
  {
   "cell_type": "code",
   "execution_count": 9,
   "metadata": {},
   "outputs": [
    {
     "name": "stdout",
     "output_type": "stream",
     "text": [
      "<class 'numpy.ndarray'> <class 'torch.Tensor'>\n"
     ]
    }
   ],
   "source": [
    "curr,label=images_all[0]\n",
    "currad,labelad=adv_all[0]\n",
    "print(type(curr),type(label))"
   ]
  },
  {
   "cell_type": "code",
   "execution_count": 10,
   "metadata": {},
   "outputs": [
    {
     "name": "stdout",
     "output_type": "stream",
     "text": [
      "Original Label  7  Adv Label  7\n"
     ]
    },
    {
     "data": {
      "image/png": "[encoded data removed]",
      "text/plain": [
       "<Figure size 432x288 with 2 Axes>"
      ]
     },
     "metadata": {},
     "output_type": "display_data"
    },
    {
     "name": "stdout",
     "output_type": "stream",
     "text": [
      "Original Label  2  Adv Label  6\n"
     ]
    },
    {
     "data": {
      "image/png": "[encoded data removed]",
      "text/plain": [
       "<Figure size 432x288 with 2 Axes>"
      ]
     },
     "metadata": {},
     "output_type": "display_data"
    },
    {
     "name": "stdout",
     "output_type": "stream",
     "text": [
      "Original Label  1  Adv Label  2\n"
     ]
    },
    {
     "data": {
      "image/png": "[encoded data removed]",
      "text/plain": [
       "<Figure size 432x288 with 2 Axes>"
      ]
     },
     "metadata": {},
     "output_type": "display_data"
    },
    {
     "name": "stdout",
     "output_type": "stream",
     "text": [
      "Original Label  0  Adv Label  0\n"
     ]
    },
    {
     "data": {
      "image/png": "[encoded data removed]",
      "text/plain": [
       "<Figure size 432x288 with 2 Axes>"
      ]
     },
     "metadata": {},
     "output_type": "display_data"
    },
    {
     "name": "stdout",
     "output_type": "stream",
     "text": [
      "Original Label  4  Adv Label  9\n"
     ]
    },
    {
     "data": {
      "image/png": "[encoded data removed]",
      "text/plain": [
       "<Figure size 432x288 with 2 Axes>"
      ]
     },
     "metadata": {},
     "output_type": "display_data"
    },
    {
     "name": "stdout",
     "output_type": "stream",
     "text": [
      "Original Label  1  Adv Label  1\n"
     ]
    },
    {
     "data": {
      "image/png": "[encoded data removed]",
      "text/plain": [
       "<Figure size 432x288 with 2 Axes>"
      ]
     },
     "metadata": {},
     "output_type": "display_data"
    },
    {
     "name": "stdout",
     "output_type": "stream",
     "text": [
      "Original Label  4  Adv Label  5\n"
     ]
    },
    {
     "data": {
      "image/png": "[encoded data removed]",
      "text/plain": [
       "<Figure size 432x288 with 2 Axes>"
      ]
     },
     "metadata": {},
     "output_type": "display_data"
    },
    {
     "name": "stdout",
     "output_type": "stream",
     "text": [
      "Original Label  9  Adv Label  5\n"
     ]
    },
    {
     "data": {
      "image/png": "[encoded data removed]",
      "text/plain": [
       "<Figure size 432x288 with 2 Axes>"
      ]
     },
     "metadata": {},
     "output_type": "display_data"
    },
    {
     "name": "stdout",
     "output_type": "stream",
     "text": [
      "Original Label  5  Adv Label  6\n"
     ]
    },
    {
     "data": {
      "image/png": "[encoded data removed]",
      "text/plain": [
       "<Figure size 432x288 with 2 Axes>"
      ]
     },
     "metadata": {},
     "output_type": "display_data"
    },
    {
     "name": "stdout",
     "output_type": "stream",
     "text": [
      "Original Label  9  Adv Label  7\n"
     ]
    },
    {
     "data": {
      "image/png": "[encoded data removed]",
      "text/plain": [
       "<Figure size 432x288 with 2 Axes>"
      ]
     },
     "metadata": {},
     "output_type": "display_data"
    },
    {
     "name": "stdout",
     "output_type": "stream",
     "text": [
      "Batch Error rate  65.0\n"
     ]
    }
   ],
   "source": [
    "for a in range(10):\n",
    "    plt.figure()\n",
    "    plt.subplot(121)\n",
    "    plt.imshow(curr[a],cmap='gray')\n",
    "    plt.subplot(122)\n",
    "    plt.imshow(currad[a],cmap='gray')\n",
    "    print(\"Original Label \", label[a].cpu().numpy(), \" Adv Label \",labelad[a].cpu().numpy())\n",
    "    plt.show()\n",
    "total=batch_size\n",
    "correct=(label==labelad).sum()\n",
    "print(\"Batch Error rate \",float(total-correct)*100/total)"
   ]
  },
  {
   "cell_type": "markdown",
   "metadata": {},
   "source": [
    "# Church Window Plots \n",
    "Proposed in\n",
    "Warde-Farley, David, and Ian Goodfellow. \"11 adversarial perturbations of deep neural networks.\" Perturbations, Optimization, and Statistics (2016): 311."
   ]
  },
  {
   "cell_type": "code",
   "execution_count": 11,
   "metadata": {},
   "outputs": [],
   "source": [
    "#Finds the Ortonormal vector of a given input\n",
    "def ort_torch(x):\n",
    "    vert=torch.randn(x.shape).to(device)\n",
    "    vert-=torch.mul(vert,x)*x\n",
    "    vert/=torch.norm(vert)\n",
    "    return vert"
   ]
  },
  {
   "cell_type": "code",
   "execution_count": 12,
   "metadata": {},
   "outputs": [],
   "source": [
    "#Definining color for each class\n",
    "colors = [[134, 24, 194], # 0 --> purple to pink intense\n",
    " [ 44 ,170, 223], # 1 --> medium to light blue\n",
    " [247 , 45 ,186], # 2 --> intense darker barbie pink\n",
    " [139, 195 , 58], # 3 --> medium lime green\n",
    " [ 49 , 59 , 55], # 4 --> dark grey\n",
    " [ 83, 102  ,98], # 5 --> light grey\n",
    " [219 , 17 , 59], # 6 --> intense pinkish red\n",
    " [116 , 56 ,240], # 7 --> cold intense purple to blue\n",
    " [155 , 32,  81], # 8 --> dark rose\n",
    " [ 21 , 40, 213]] # 9 --> intense royal blue"
   ]
  },
  {
   "cell_type": "code",
   "execution_count": 19,
   "metadata": {},
   "outputs": [
    {
     "data": {
      "text/plain": [
       "<matplotlib.image.AxesImage at 0x7fc9d00e2780>"
      ]
     },
     "execution_count": 19,
     "metadata": {},
     "output_type": "execute_result"
    },
    {
     "data": {
      "image/png": "[encoded data removed]",
      "text/plain": [
       "<Figure size 432x288 with 1 Axes>"
      ]
     },
     "metadata": {},
     "output_type": "display_data"
    }
   ],
   "source": [
    "res=101\n",
    "window=0.5\n",
    "x=np.linspace(-window,window,res)\n",
    "y=np.linspace(-window,window,res)\n",
    "out=np.zeros([res,res,3],dtype=np.uint8)\n",
    "#print(x)\n",
    "data_loader=torch.utils.data.DataLoader(test_dataset, batch_size=1,\n",
    "                                       shuffle=True)\n",
    "for image,label in data_loader:\n",
    "    image,label=image.to(device),label.to(device)\n",
    "    image=image.view(-1,input_size)\n",
    "    image.requires_grad_()\n",
    "    output=model(image)\n",
    "    _,prediction=torch.max(output,1)\n",
    "    \n",
    "    loss=criterion(output,label)\n",
    "    loss.backward()\n",
    "    adv_direction=image.grad\n",
    "    adv_normal=ort_torch(adv_direction)\n",
    "    adv_direction=torch.sign(adv_direction)\n",
    "    adv_normal=torch.sign(adv_normal)\n",
    "    \n",
    "    for a in range(y.size):\n",
    "        for b in range(x.size):\n",
    "            update=y[a]*adv_normal+x[b]*adv_direction\n",
    "            update=update.to(device)\n",
    "            image_adv=torch.clamp(image.detach()+update,0,1)\n",
    "            _,adv_out=torch.max(model(image_adv),1)\n",
    "            if(adv_out==label):\n",
    "                out[a][b]=[255,255,255]\n",
    "            else:\n",
    "                out[a][b]=colors[adv_out]\n",
    "    \n",
    "\n",
    "    break\n",
    "plt.imshow(out,extent=[-window,window,-window,window])"
   ]
  }
 ],
 "metadata": {
  "kernelspec": {
   "display_name": "Python 3",
   "language": "python",
   "name": "python3"
  },
  "language_info": {
   "codemirror_mode": {
    "name": "ipython",
    "version": 3
   },
   "file_extension": ".py",
   "mimetype": "text/x-python",
   "name": "python",
   "nbconvert_exporter": "python",
   "pygments_lexer": "ipython3",
   "version": "3.6.5"
  }
 },
 "nbformat": 4,
 "nbformat_minor": 2
}
